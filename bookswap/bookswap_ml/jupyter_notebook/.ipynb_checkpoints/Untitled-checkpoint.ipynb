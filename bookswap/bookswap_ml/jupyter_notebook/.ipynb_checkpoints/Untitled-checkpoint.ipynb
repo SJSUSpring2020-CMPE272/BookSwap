{
 "cells": [
  {
   "cell_type": "code",
   "execution_count": 24,
   "metadata": {},
   "outputs": [],
   "source": [
    "import pandas as pd\n",
    "import numpy as np\n",
    "import collections\n",
    "from mpl_toolkits.mplot3d import Axes3D\n",
    "from IPython import display\n",
    "from matplotlib import pyplot as plt\n",
    "# import seaborn as sns\n",
    "import matplotlib.pyplot as plt\n",
    "from collections import Counter"
   ]
  },
  {
   "cell_type": "code",
   "execution_count": 25,
   "metadata": {},
   "outputs": [
    {
     "name": "stdout",
     "output_type": "stream",
     "text": [
      "[('fiction', 6902), ('fantasy', 2895), ('romance', 2520), ('young-adult', 2119), ('mystery', 1809), ('contemporary', 1630), ('non-fiction', 1552), ('classics', 1481), ('historical-fiction', 1302), ('thriller', 1261), ('audiobook', 1078), ('science-fiction', 951), ('adult', 949), ('paranormal', 925), ('historical', 853), ('childrens', 849), ('crime', 838), ('humor', 799), ('novels', 770), ('chick-lit', 758), ('adventure', 743), ('literature', 699), ('horror', 609)]\n"
     ]
    }
   ],
   "source": [
    "pd.set_option(\"display.max_rows\", None, \"display.max_columns\", None)\n",
    "df = pd.read_csv(\"edited_genres.csv\")\n",
    "temp = []\n",
    "for row in df['genre_list']:\n",
    "    row = row.replace(\"'\", \"\")\n",
    "    res = row.strip('][').split(', ')\n",
    "    for genre in res:\n",
    "        temp.append(genre)\n",
    "\n",
    "c = Counter(temp).most_common(23)\n",
    "print(c)"
   ]
  },
  {
   "cell_type": "markdown",
   "metadata": {},
   "source": [
    "**List of generes to account for:**\n",
    "'unknown'\n",
    "'fiction',\n",
    "'fantasy',\n",
    "'romance',\n",
    "'young-adult',\n",
    "'mystery',\n",
    "'contemporary',\n",
    "'non-fiction',\n",
    "'classics',\n",
    "'thriller',\n",
    "'adult',\n",
    "'paranormal',\n",
    "'historical',\n",
    "'childrens',\n",
    "'crime',\n",
    "'humor',\n",
    "'chick-lit',\n",
    "'adventure',\n",
    "'horror'"
   ]
  },
  {
   "cell_type": "code",
   "execution_count": 26,
   "metadata": {},
   "outputs": [
    {
     "name": "stderr",
     "output_type": "stream",
     "text": [
      "/Library/Python/3.7/site-packages/ipykernel_launcher.py:1: FutureWarning: Passing a negative integer is deprecated in version 1.0 and will not be supported in future version. Instead, use None to not limit the column width.\n",
      "  \"\"\"Entry point for launching an IPython kernel.\n"
     ]
    }
   ],
   "source": [
    "pd.set_option('display.max_colwidth', -1)\n",
    "\n",
    "genere_df = pd.read_csv(\"edited_genres.csv\")\n",
    "\n",
    "df = pd.read_csv(\"books.csv\")\n",
    "del df['best_book_id']\n",
    "del df['work_id']\n",
    "del df['books_count']\n",
    "del df['isbn']\n",
    "del df['isbn13']\n",
    "del df['original_publication_year']\n",
    "del df['original_title']\n",
    "del df['language_code']\n",
    "del df['average_rating']\n",
    "del df['ratings_count']\n",
    "del df['work_ratings_count']\n",
    "del df['work_text_reviews_count']\n",
    "del df['ratings_1']\n",
    "del df['ratings_2']\n",
    "del df['ratings_3']\n",
    "del df['ratings_4']\n",
    "del df['ratings_5']\n",
    "del df['small_image_url']\n",
    "\n",
    "genre_list = ['unknown','fiction','fantasy','romance','young-adult',\n",
    "              'mystery','contemporary','non-fiction','classics','thriller',\n",
    "              'adult','paranormal','historical','childrens','crime',\n",
    "              'humor','chick-lit','adventure','horror']\n",
    "\n",
    "to_add = []\n",
    "\n",
    "temp = df['goodreads_book_id']\n",
    "for good_id in temp:\n",
    "    book_genre = (genere_df.loc[(genere_df['good_id'] == good_id)]['genre_list'])\n",
    "    res = ''\n",
    "    for category in genre_list:\n",
    "        if category in str(book_genre):\n",
    "            res += '1'\n",
    "        else:\n",
    "            res += '0'\n",
    "        res+='|'\n",
    "    res = res[:-1]\n",
    "    if not '1' in res:\n",
    "        index = 0\n",
    "        res = res[:index] + '1' + res[index + 1:]\n",
    "    to_add.append(res.strip('\"'))\n",
    "    \n",
    "# print(to_add)\n",
    "\n",
    "\n",
    "df['genres'] = to_add \n",
    "    \n",
    "with open('u.item', 'w') as f:\n",
    "    f.write(df.to_csv(index=False,header=True, sep='|'))\n",
    "# print(df)\n",
    "\n",
    "#     string_genre_list = (str(genere_df.loc[(genere_df['good_id'] == good_id)]['genre_list']))\n",
    "#     string_genre_list = string_genre_list.replace(\"'\", \"\")\n",
    "#     string_genre_list = string_genre_list.strip('][').split(', ')\n",
    "#     print(string_genre_list)\n",
    "#     goodreads_book_id = row['goodreads_book_id']\n",
    "#     print(goodreads_book_id)\n",
    "    "
   ]
  },
  {
   "cell_type": "code",
   "execution_count": null,
   "metadata": {},
   "outputs": [],
   "source": [
    "\n",
    "\n",
    "user_df = pd.read_csv('processed/u.data', sep='\\t', encoding='latin-1')\n",
    "users = user_df['a']\n",
    "\n",
    "l = {}\n",
    "for user in users:\n",
    "    if user in l:\n",
    "        l[user]+=1\n",
    "    else:\n",
    "        l[user] = 1\n",
    "    \n",
    "review_counts = l.values()\n",
    "\n",
    "print(len(review_counts))\n",
    "\n",
    "user_ids = list(l.keys())\n",
    "\n",
    "user_ids.sort()\n",
    "\n",
    "    \n",
    "with open('u.users', 'w') as f:\n",
    "    for i in user_ids[0:10]:\n",
    "        f.write(str(user_ids))\n",
    "# print((user_ids))\n",
    "\n",
    "# totals = []\n",
    "# for count in review_counts:\n",
    "#     if count <= 20:\n",
    "#         totals.append(count)\n",
    "# print((totals))"
   ]
  },
  {
   "cell_type": "code",
   "execution_count": null,
   "metadata": {},
   "outputs": [],
   "source": []
  }
 ],
 "metadata": {
  "kernelspec": {
   "display_name": "Python 3",
   "language": "python",
   "name": "python3"
  },
  "language_info": {
   "codemirror_mode": {
    "name": "ipython",
    "version": 3
   },
   "file_extension": ".py",
   "mimetype": "text/x-python",
   "name": "python",
   "nbconvert_exporter": "python",
   "pygments_lexer": "ipython3",
   "version": "3.7.3"
  }
 },
 "nbformat": 4,
 "nbformat_minor": 2
}
