{
 "cells": [
  {
   "cell_type": "code",
   "execution_count": 1,
   "metadata": {},
   "outputs": [],
   "source": [
    "import pandas as pd"
   ]
  },
  {
   "cell_type": "code",
   "execution_count": 15,
   "metadata": {},
   "outputs": [
    {
     "data": {
      "text/plain": [
       "0                           thehungergamesthehungergames1\n",
       "1             harrypotterandthesorcerersstoneharrypotter1\n",
       "2                                       twilighttwilight1\n",
       "3                                      tokillamockingbird\n",
       "4                                          thegreatgatsby\n",
       "                              ...                        \n",
       "9995                                    bayoumoontheedge2\n",
       "9996                meansofascenttheyearsoflyndonjohnson2\n",
       "9997                                  themauritiuscommand\n",
       "9998    cinderellaatemydaughterdispatchesfromthefrontl...\n",
       "9999                                     thefirstworldwar\n",
       "Name: edited_title, Length: 10000, dtype: object"
      ]
     },
     "execution_count": 15,
     "metadata": {},
     "output_type": "execute_result"
    }
   ],
   "source": [
    "genre_cols = ['unknown','fiction','fantasy','romance','young-adult',\n",
    "              'mystery','contemporary','non-fiction','classics','thriller',\n",
    "              'adult','paranormal','historical','childrens','crime',\n",
    "              'humor','chick-lit','adventure','horror']\n",
    "books_cols = ['book_id', 'good_book_id','author','title', \"img_url\"] + genre_cols\n",
    "books = pd.read_csv(r'C:\\Users\\raaga\\Desktop\\cmpe272\\BookSwap\\bookswap\\bookswap_ml\\data\\book_info', sep='|', names=books_cols, encoding='latin-1')\n",
    "processed_title=[]\n",
    "for name in books['title']:\n",
    "  name = name.lower()\n",
    "  name = name.strip(\" \")\n",
    "#   print(name)\n",
    "  if not (name.isalnum()):\n",
    "    name = ''.join(e for e in name if e.isalnum())\n",
    "#     print(name)\n",
    "  processed_title.append(name)\n",
    "# print(processed_title)\n",
    "books['edited_title'] = processed_title\n",
    "books['edited_title']\n"
   ]
  },
  {
   "cell_type": "code",
   "execution_count": 16,
   "metadata": {},
   "outputs": [
    {
     "name": "stdout",
     "output_type": "stream",
     "text": [
      "0                           thehungergamesthehungergames1\n",
      "1             harrypotterandthesorcerersstoneharrypotter1\n",
      "2                                       twilighttwilight1\n",
      "3                                      tokillamockingbird\n",
      "4                                          thegreatgatsby\n",
      "                              ...                        \n",
      "9995                                    bayoumoontheedge2\n",
      "9996                meansofascenttheyearsoflyndonjohnson2\n",
      "9997                                  themauritiuscommand\n",
      "9998    cinderellaatemydaughterdispatchesfromthefrontl...\n",
      "9999                                     thefirstworldwar\n",
      "Name: edited_title, Length: 10000, dtype: object\n"
     ]
    }
   ],
   "source": [
    "print(books['edited_title'])"
   ]
  },
  {
   "cell_type": "code",
   "execution_count": 46,
   "metadata": {},
   "outputs": [
    {
     "name": "stdout",
     "output_type": "stream",
     "text": [
      " theleopard\n",
      "theleopard\n"
     ]
    },
    {
     "data": {
      "text/plain": [
       "'The Leopard'"
      ]
     },
     "execution_count": 46,
     "metadata": {},
     "output_type": "execute_result"
    }
   ],
   "source": [
    "bookname=' TheLeopard'\n",
    "bookname = bookname.lower()\n",
    "print(bookname)\n",
    "if not (bookname.isalnum()):\n",
    "    bookname = ''.join(e for e in bookname if e.isalnum())\n",
    "    print(bookname)\n",
    "df = books[books['edited_title'].astype(str).str.contains(bookname)]\n",
    "print(df)\n",
    "if df.empty == True:\n",
    "    print('No data')\n",
    "    \n",
    "# df.iloc[0]['title']\n",
    "\n",
    "\n",
    "# print(found)"
   ]
  }
 ],
 "metadata": {
  "kernelspec": {
   "display_name": "Python 3",
   "language": "python",
   "name": "python3"
  },
  "language_info": {
   "codemirror_mode": {
    "name": "ipython",
    "version": 3
   },
   "file_extension": ".py",
   "mimetype": "text/x-python",
   "name": "python",
   "nbconvert_exporter": "python",
   "pygments_lexer": "ipython3",
   "version": "3.7.6"
  }
 },
 "nbformat": 4,
 "nbformat_minor": 4
}
