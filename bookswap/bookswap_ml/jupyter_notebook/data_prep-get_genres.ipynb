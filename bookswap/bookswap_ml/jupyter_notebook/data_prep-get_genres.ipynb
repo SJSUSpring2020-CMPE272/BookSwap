{
 "cells": [
  {
   "cell_type": "code",
   "execution_count": 2,
   "metadata": {},
   "outputs": [
    {
     "name": "stdout",
     "output_type": "stream",
     "text": [
      "10034\n",
      "9977\n",
      "57\n"
     ]
    }
   ],
   "source": [
    "import csv\n",
    "rows = list(csv.reader(open(r'C:\\Users\\raaga\\Desktop\\cmpe272\\ProjectGroup-7\\genres.csv', 'r'), delimiter=','))\n",
    "\n",
    "result = []\n",
    "redundant = []\n",
    "for r in rows:\n",
    "    key = r\n",
    "    if key not in result:\n",
    "        result.append(r)\n",
    "    else:\n",
    "        redundant.append(key)\n",
    "print(len(rows))\n",
    "print(len(result))\n",
    "print(len(redundant))"
   ]
  },
  {
   "cell_type": "code",
   "execution_count": 3,
   "metadata": {},
   "outputs": [],
   "source": [
    "with open('unique_genres.csv', 'w', newline='') as file:\n",
    "    writer = csv.writer(file)\n",
    "    for row in result:\n",
    "        writer.writerow(row)"
   ]
  },
  {
   "cell_type": "code",
   "execution_count": 4,
   "metadata": {},
   "outputs": [
    {
     "name": "stdout",
     "output_type": "stream",
     "text": [
      "9977\n",
      "9863\n",
      "114\n"
     ]
    }
   ],
   "source": [
    "with open('unique_genres.csv', 'r', newline='') as file:\n",
    "    reader = csv.reader(file)\n",
    "    list_rows = list(reader)\n",
    "    print(len(list_rows))\n",
    "    get_genres=[]\n",
    "    for row in list_rows:\n",
    "#         print(row[1])\n",
    "        if len(row) != 2:\n",
    "            get_genres.append(row)\n",
    "#           list_rows.append(row)\n",
    "    for row in get_genres:\n",
    "        list_rows.remove(row)\n",
    "    print(len(list_rows))\n",
    "    print(len(get_genres))\n",
    "#     with open('unique_genres1.csv', 'w', newline='',encoding=\"utf-8\") as file:\n",
    "#         writer = csv.writer(file)\n",
    "#         for row in list_rows:\n",
    "#             writer.writerow(row)\n",
    "    \n",
    "             "
   ]
  },
  {
   "cell_type": "code",
   "execution_count": 14,
   "metadata": {},
   "outputs": [
    {
     "name": "stdout",
     "output_type": "stream",
     "text": [
      "10884,biography|non-fiction|science|history|physics|biography-memoir|audiobook|autobiography|historical|memoir|\n",
      "0 10884,biography|non-fiction|science|history|physics|biography-memoir|audiobook|autobiography|historical|memoir\n",
      "11827808,fiction|mythology|fantasy|indian-literature|historical-fiction|india|amish|novels|adventure|thriller|\n",
      "0 11827808,fiction|mythology|fantasy|indian-literature|historical-fiction|india|amish|novels|adventure|thriller\n",
      "27161156,non-fiction|memoir|biography|audiobook|politics|biography-memoir|sociology|history|autobiography|book-club|\n",
      "0 27161156,non-fiction|memoir|biography|audiobook|politics|biography-memoir|sociology|history|autobiography|book-club\n",
      "91767,biography|art|non-fiction|history|biography-memoir|\n",
      "0 91767,biography|art|non-fiction|history|biography-memoir\n",
      "5114,fiction|classics|short-stories|literature|american|\n",
      "0 5114,fiction|classics|short-stories|literature|american\n",
      "15019,spirituality|non-fiction|religion|philosophy|self-help|inspirational|new-age|personal-development|god|psychology|\n",
      "0 15019,spirituality|non-fiction|religion|philosophy|self-help|inspirational|new-age|personal-development|god|psychology\n",
      "101911,fiction|\n",
      "0 101911,fiction\n",
      "76889,poetry|classics|american|literature|fiction|20th-century|the-united-states-of-america|anthologies|collections|adult|\n",
      "0 76889,poetry|classics|american|literature|fiction|20th-century|the-united-states-of-america|anthologies|collections|adult\n",
      "26596,poetry|classics|literature|fiction|\n",
      "0 26596,poetry|classics|literature|fiction\n",
      "140278,mystery|fiction|crime|classics|detective|\n",
      "0 140278,mystery|fiction|crime|classics|detective\n",
      "457264,feminism|non-fiction|philosophy|classics|\n",
      "0 457264,feminism|non-fiction|philosophy|classics\n",
      "612188,psychology|non-fiction|biography|philosophy|memoir|autobiography|spirituality|science|psychoanalysis|biography-memoir|\n",
      "0 612188,psychology|non-fiction|biography|philosophy|memoir|autobiography|spirituality|science|psychoanalysis|biography-memoir\n",
      "181601,picture-books|childrens|animals|fiction|storytime|humor|kids|fantasy|classics|family|\n",
      "0 181601,picture-books|childrens|animals|fiction|storytime|humor|kids|fantasy|classics|family\n",
      "400924,fantasy|fiction|dark-fantasy|epic-fantasy|\n",
      "0 400924,fantasy|fiction|dark-fantasy|epic-fantasy\n",
      "1107001,cookbooks|cooking|food|non-fiction|reference|\n",
      "0 1107001,cookbooks|cooking|food|non-fiction|reference\n",
      "6609490,vampires|young-adult|fantasy|witches|paranormal|\n",
      "0 6609490,vampires|young-adult|fantasy|witches|paranormal\n",
      "68380,fantasy|dragonlance|fiction|epic-fantasy|science-fiction-fantasy|\n",
      "0 68380,fantasy|dragonlance|fiction|epic-fantasy|science-fiction-fantasy\n",
      "11106458,fantasy|young-adult|romance|paranormal|urban-fantasy|vampires|angels|supernatural|fiction|werewolves|\n",
      "0 11106458,fantasy|young-adult|romance|paranormal|urban-fantasy|vampires|angels|supernatural|fiction|werewolves\n",
      "11107244,non-fiction|history|psychology|science|philosophy|sociology|\n",
      "0 11107244,non-fiction|history|psychology|science|philosophy|sociology\n",
      "1747896,non-fiction|history|true-crime|mystery|crime|historical|victorian|british-literature|detective|19th-century|\n",
      "0 1747896,non-fiction|history|true-crime|mystery|crime|historical|victorian|british-literature|detective|19th-century\n",
      "70287,historical-fiction|fiction|france|historical|\n",
      "0 70287,historical-fiction|fiction|france|historical\n",
      "15801967,business|non-fiction|psychology|science|audiobook|sociology|buisness|self-help|entrepreneurship|leadership|\n",
      "0 15801967,business|non-fiction|psychology|science|audiobook|sociology|buisness|self-help|entrepreneurship|leadership\n",
      "112693,young-adult|humor|romance|fiction|chick-lit|contemporary|teen|comedy|childrens|realistic-fiction|\n",
      "0 112693,young-adult|humor|romance|fiction|chick-lit|contemporary|teen|comedy|childrens|realistic-fiction\n",
      "6193,fiction|africa|south-africa|literature|novels|nobel-prize|literary-fiction|war|african-literature|20th-century|\n",
      "0 6193,fiction|africa|south-africa|literature|novels|nobel-prize|literary-fiction|war|african-literature|20th-century\n",
      "347577,young-adult|humor|romance|fiction|chick-lit|\n",
      "0 347577,young-adult|humor|romance|fiction|chick-lit\n",
      "73906,fantasy|fiction|historical-fiction|arthurian|mythology|\n",
      "0 73906,fantasy|fiction|historical-fiction|arthurian|mythology\n",
      "93436,fiction|fantasy|science-fiction|mystery|\n",
      "0 93436,fiction|fantasy|science-fiction|mystery\n",
      "604635,fiction|contemporary|scandinavian-literature|novels|\n",
      "0 604635,fiction|contemporary|scandinavian-literature|novels\n",
      "6261270,fiction|self-help|inspirational|\n",
      "0 6261270,fiction|self-help|inspirational\n",
      "55229,history|civil-war|non-fiction|american-history|american-civil-war|war|military-fiction|military-history|historical|politics|\n",
      "0 55229,history|civil-war|non-fiction|american-history|american-civil-war|war|military-fiction|military-history|historical|politics\n",
      "3692151,non-fiction|humor|egypt|comedy|literature|comics|\n",
      "0 3692151,non-fiction|humor|egypt|comedy|literature|comics\n",
      "576666,fiction|historical-fiction|historical|classics|\n",
      "0 576666,fiction|historical-fiction|historical|classics\n",
      "383196,poetry|literature|\n",
      "0 383196,poetry|literature\n",
      "76248,mystery|fiction|\n",
      "0 76248,mystery|fiction\n"
     ]
    }
   ],
   "source": [
    "import pandas as pd\n",
    "import requests\n",
    "from bs4 import BeautifulSoup\n",
    "import os\n",
    "\n",
    "review_df = pd.read_csv(r'C:\\Users\\raaga\\Desktop\\cmpe272\\ProjectGroup-7\\goodbooks-10k\\books.csv')\n",
    "book_ids = review_df['goodreads_book_id'].tolist()\n",
    "# print(book_ids)\n",
    "book_names = review_df['title'].tolist()\n",
    "book_dict ={}\n",
    "for ids,names in zip(book_ids,book_names):\n",
    "#     print(type(ids))\n",
    "    book_dict[str(ids)] = names\n",
    "\n",
    "for ids in get_genres:\n",
    "    f = open(\"unique_genres1.csv\", \"a+\", newline='')\n",
    "    url = \"https://www.goodreads.com/book/show/\"\n",
    "    i =0 \n",
    "    temp=url+str(ids[0])+\".\"+str(book_dict.get(ids[0]))\n",
    "    page = requests.get(temp)\n",
    "    soup = BeautifulSoup(page.content, 'html.parser')\n",
    "    genres_list=soup.find_all(\"a\",{'class':\"actionLinkLite greyText bookPageGenreLink\"} )\n",
    "    genres = \"\"\n",
    "    for genre in genres_list:\n",
    "        genres += (str(genre).split('shelf=')[1].split('\\\"')[0])+\"|\"\n",
    "    if genres :\n",
    "        print(ids[0]+\",\"+genres)\n",
    "        file_text = ids[0]+\",\"+genres\n",
    "        file_text = file_text[:-1]\n",
    "        f.write( file_text + '\\n')\n",
    "        print(str(i) +\" \" +file_text)\n",
    "    f.close()"
   ]
  },
  {
   "cell_type": "code",
   "execution_count": 46,
   "metadata": {},
   "outputs": [
    {
     "name": "stdout",
     "output_type": "stream",
     "text": [
      "<_csv.reader object at 0x0000015FB706DEB8>\n",
      "10001\n",
      "10001\n",
      "0\n"
     ]
    }
   ],
   "source": [
    "reader = csv.reader(open(r'C:\\Users\\raaga\\Desktop\\cmpe272\\ProjectGroup-7\\goodbooks-10k\\books.csv', 'r',encoding=\"utf8\"), delimiter=',')\n",
    "rows =[]\n",
    "for line in reader:\n",
    "    rows.append(line) \n",
    "result=[]\n",
    "for r in rows:\n",
    "    key = r\n",
    "    if key not in result:\n",
    "        result.append(key)\n",
    "    else:\n",
    "        redundant.append(key)\n",
    "print(len(rows))\n",
    "print(len(result))\n",
    "print(len(redundant))"
   ]
  },
  {
   "cell_type": "code",
   "execution_count": 23,
   "metadata": {},
   "outputs": [],
   "source": [
    "import csv\n",
    "inputs = [r\"C:\\Users\\raaga\\Desktop\\cmpe272\\ProjectGroup-7\\goodbooks-10k\\books.csv\",\n",
    "          r\"C:\\Users\\raaga\\Desktop\\cmpe272\\ProjectGroup-7\\unique_genres1.csv\"]  # etc\n",
    "\n",
    "# First determine the field names from the top line of each input file\n",
    "# Comment 1 below\n",
    "books_cols = ['book_id','goodreads_book_id','authors','title','average_rating','small_image_url','genres']\n",
    "genres_cols =['goodreads_book_id','genres']\n",
    "ratings_cols=['user_id','book_id','rating']\n",
    "books = pd.read_csv(\n",
    "    r\"C:\\Users\\raaga\\Desktop\\cmpe272\\ProjectGroup-7\\goodbooks-10k\\books.csv\", sep='|', names=books_cols, encoding='latin-1')\n",
    "genres = pd.read_csv(\n",
    "    r\"C:\\Users\\raaga\\Desktop\\cmpe272\\ProjectGroup-7\\unique_genres1.csv\", sep=',', names=genres_cols, encoding='latin-1')\n",
    "user_ratings = pd.read_csv(\n",
    "    r\"C:\\Users\\raaga\\Desktop\\cmpe272\\ProjectGroup-7\\goodbooks-10k\\ratings.csv\", sep='|', names=ratings_cols, encoding='latin-1')\n"
   ]
  },
  {
   "cell_type": "code",
   "execution_count": 27,
   "metadata": {},
   "outputs": [
    {
     "ename": "AttributeError",
     "evalue": "'DataFrame' object has no attribute 'show'",
     "output_type": "error",
     "traceback": [
      "\u001b[1;31m---------------------------------------------------------------------------\u001b[0m",
      "\u001b[1;31mAttributeError\u001b[0m                            Traceback (most recent call last)",
      "\u001b[1;32m<ipython-input-27-84832cd12558>\u001b[0m in \u001b[0;36m<module>\u001b[1;34m\u001b[0m\n\u001b[1;32m----> 1\u001b[1;33m \u001b[0mbooks\u001b[0m\u001b[1;33m.\u001b[0m\u001b[0mdescribe\u001b[0m\u001b[1;33m(\u001b[0m\u001b[1;33m)\u001b[0m\u001b[1;33m.\u001b[0m\u001b[0mshow\u001b[0m\u001b[1;33m(\u001b[0m\u001b[1;33m)\u001b[0m\u001b[1;33m\u001b[0m\u001b[1;33m\u001b[0m\u001b[0m\n\u001b[0m",
      "\u001b[1;32m~\\anaconda3\\lib\\site-packages\\pandas\\core\\generic.py\u001b[0m in \u001b[0;36m__getattr__\u001b[1;34m(self, name)\u001b[0m\n\u001b[0;32m   5272\u001b[0m             \u001b[1;32mif\u001b[0m \u001b[0mself\u001b[0m\u001b[1;33m.\u001b[0m\u001b[0m_info_axis\u001b[0m\u001b[1;33m.\u001b[0m\u001b[0m_can_hold_identifiers_and_holds_name\u001b[0m\u001b[1;33m(\u001b[0m\u001b[0mname\u001b[0m\u001b[1;33m)\u001b[0m\u001b[1;33m:\u001b[0m\u001b[1;33m\u001b[0m\u001b[1;33m\u001b[0m\u001b[0m\n\u001b[0;32m   5273\u001b[0m                 \u001b[1;32mreturn\u001b[0m \u001b[0mself\u001b[0m\u001b[1;33m[\u001b[0m\u001b[0mname\u001b[0m\u001b[1;33m]\u001b[0m\u001b[1;33m\u001b[0m\u001b[1;33m\u001b[0m\u001b[0m\n\u001b[1;32m-> 5274\u001b[1;33m             \u001b[1;32mreturn\u001b[0m \u001b[0mobject\u001b[0m\u001b[1;33m.\u001b[0m\u001b[0m__getattribute__\u001b[0m\u001b[1;33m(\u001b[0m\u001b[0mself\u001b[0m\u001b[1;33m,\u001b[0m \u001b[0mname\u001b[0m\u001b[1;33m)\u001b[0m\u001b[1;33m\u001b[0m\u001b[1;33m\u001b[0m\u001b[0m\n\u001b[0m\u001b[0;32m   5275\u001b[0m \u001b[1;33m\u001b[0m\u001b[0m\n\u001b[0;32m   5276\u001b[0m     \u001b[1;32mdef\u001b[0m \u001b[0m__setattr__\u001b[0m\u001b[1;33m(\u001b[0m\u001b[0mself\u001b[0m\u001b[1;33m,\u001b[0m \u001b[0mname\u001b[0m\u001b[1;33m:\u001b[0m \u001b[0mstr\u001b[0m\u001b[1;33m,\u001b[0m \u001b[0mvalue\u001b[0m\u001b[1;33m)\u001b[0m \u001b[1;33m->\u001b[0m \u001b[1;32mNone\u001b[0m\u001b[1;33m:\u001b[0m\u001b[1;33m\u001b[0m\u001b[1;33m\u001b[0m\u001b[0m\n",
      "\u001b[1;31mAttributeError\u001b[0m: 'DataFrame' object has no attribute 'show'"
     ]
    }
   ],
   "source": []
  },
  {
   "cell_type": "code",
   "execution_count": 11,
   "metadata": {},
   "outputs": [
    {
     "name": "stdout",
     "output_type": "stream",
     "text": [
      "26\n",
      "{'christian-fiction', 'education', 'new-age', 'travel', 'social-justice', 'dark', 'nobel-prize', 'swedish-literature', 'young-readers', 'lesbian-fiction', 'personal-development', 'classic-literature', 'usability', 'food-history', 'biblical-fiction', 'folk-tales', 'nature', 'dark-fantasy', 'computers', 'plants', 'academic', 'law', 'school', 'erotic-romance', 'birds', '14th-century', 'forgotten-realms', 'poetry-plays', 'metaphysics', 'psychiatry', 'manga', 'irish-literature', 'victor-frankenstein', 'sports-romance', 'shapeshifters', 'canada', 'media-tie-in', 'weird-fiction', 'journal', 'judaism', 'feminism', 'chick-lit', 'mountaineering', 'pirates', 'world-war-ii', 'urban-fantasy', 'christianity', 'comic-book', 'foodie', 'noir', 'monsters', 'nutrition', 'detective', 'architecture', 'bande-dessin%C3%A9e', 'menage', 'marriage', 'anime', 'horror', 'world-history', 'software', 'lovecraftian', 'romance', 'terrorism', 'unfinished', 'jazz', 'emotion', 'crime', 'new-adult', 'musicals', 'divorce', 'aviation', 'historical-mystery', 'algeria', 'kids', 'medieval-history', 'japanese-literature', 'vegetarianism', 'dragons', 'teaching', 'historical-fiction', 'm-f-romance', 'church', 'politics', 'spanish-literature', 'thriller', 'reference', 'contemporary', 'magical-realism', 'picture-books', 'young-adult-historical-fiction', 'ancient', 'classics', 'drama', 'somalia', 'cuisine', 'zombies', 'art-history', 'adventure', 'ukraine', 'computer-science', 'activism', 'legal-thriller', 'design', 'united-states', 'psychoanalysis', 'poetry', 'african-literature', 'website-design', 'biography', 'humor', 'counselling', 'planets', 'mental-health', 'indonesian-literature', 'dungeons-and-dragons', 'society', 'witches', 'futuristic', 'motorcycle', 'eastern-philosophy', 'psychological-thriller', 'sequential-art', 'folklore', 'russian-literature', 'islam', 'brazil', 'cartoon', 'history', 'christian-living', 'fantasy-romance', 'fae', 'collections', 'basketball', 'diets', 'food', 'geography', 'young-adult-fantasy', 'textbooks', 'alternative-medicine', 'knitting', 'lds-non-fiction', 'queer', 'human-development', 'russian-history', 'egypt', 'communication', 'crafts', 'cooking', 'international-relations', 'wicca', 'theology', 'alternate-history', 'zimbabwe', 'logic', 'abuse', 'astronomy', 'epic', 'american-history', 'native-americans', '20th-century', 'japan', 'geek', 'vegetarian', 'hard-boiled', 'ghosts', 'graphic-novels-comics', 'programming', 'theory', 'gaming', 'linguistics', 'womens-studies', 'street-art', '21st-century', 'hugo-awards', 'money', 'psychology', 'food-and-wine', 'holiday', 'us-presidents', 'food-writing', 'spain', 'survival', 'vampires', 'climate-change', 'biology', 'dinosaurs', 'time-travel', 'witchcraft', 'international-development', 'fairy-tale-retellings', 'technology', 'military-science-fiction', 'clean-romance', 'ecology', 'musicians', 'brain', 'superheroes', '1st-grade', 'medieval-romance', 'american', 'arthurian', 'love', 'retellings', 'greek-mythology', 'marvel', 'romantic-suspense', 'chemistry', 'poverty', 'italian-literature', 'magic', 'portuguese-literature', 'mythology', 'dc-comics', 'history-of-science', 'video-games', 'mystery-thriller', 'catholic', 'prayer', 'fan-fiction', 'victorian', 'science-fiction', 'how-to', 'plays', 'tv', 'art-design', 'the-united-states-of-america', 'scotland', 'entrepreneurship', 'lgbt', 'apocalyptic', 'photography', 'french-literature', 'urban', 'read-for-school', 'back-to-school', 'sustainability', 'drawing', 'faith', 'ethiopia', 'dogs', 'god', 'teachers', 'sociology', 'martial-arts', 'fairies', 'music-biography', 'demons', 'india', 'english-literature', 'comic-strips', 'literary-fiction', 'visual-art', 'banned-books', 'leadership', 'memoir', 'short-story-collection', 'fostering', 'shonen', 'book-club', 'mixed-martial-arts', 'egyptian-literature', 'mathematics', 'cats', 'non-fiction', 'race', 'parenting', 'westerns', 'culinary', 'movies', 'polygamy', 'americana', 'israel', 'indian-literature', 'travelogue', 'popular-science', 'genetics', 'gardening', 'political-science', 'italy', 'football', 'star-wars', 'european-history', 'russia', 'cults', 'novels', 'mystery', 'czech-literature', 'christian-romance', 'journalism', 'lesbian', 'cyberpunk', 'african-american', 'gay', 'fiction', 'young-adult-romance', 'denmark', 'new-york', 'social', 'steampunk', 'holocaust', 'coming-of-age', 'pakistan', 'transport', 'high-fantasy', 'light-novel', 'womens', 'adult-fiction', 'humanities', 'canadian-literature', 'soccer', 'ghana', 'paganism', 'realistic-fiction', 'technical', 'death', 'ancient-history', 'animal-fiction', 'young-adult-paranormal', 'asia', 'environment', 'vegan', 'space', 'hockey', 'number', 'south-africa', '18th-century', 'manga-romance', 'rwanda', 'amish-fiction', 'medicine', 'post-apocalyptic', 'polish-literature', 'medieval', 'finnish-literature', 'josei', 'wilderness', 'world-war-i', 'harlequin', 'punk', 'halloween', 'management', 'pop-culture', 'american-revolutionary-war', 'latin-american-literature', 'roman', 'outdoors', 'batman', 'biography-memoir', 'archaeology', 'nordic-noir', 'diary', 'comics', 'buddhism', 'novella', 'audiobook', 'self-help', 'adoption', 'sexuality', 'neuroscience', 'animals', 'tragedy', 'high-school', 'asian-literature', 'paranormal-romance', 'cultural', 'prehistoric', 'amazon', 'turkish-literature', 'trivia', 'gods', 'christian', 'murder-mystery', 'spider-man', 'romantic', 'young-adult', 'regency-romance', 'essays', 'family', 'finance', 'true-story', 'christian-fantasy', 'trains', 'greece', 'princesses', 'american-revolution', 'china', 'historical-fantasy', 'food-and-drink', 'disability', 'comedian', 'criticism', 'romanian-literature', 'x-men', 'portugal', 'productivity', 'presidents', 'm-m-romance', 'short-stories', 'dragonlance', 'civil-war', 'young-adult-contemporary', 'hungary', 'supernatural', 'american-civil-war', 'france', 'science-fiction-fantasy', 'love-story', 'rock-n-roll', 'taoism', 'personal-finance', 'climbing', 'natural-history', 'womens-fiction', 'germany', 'hinduism', 'google', 'cookbooks', 'wine', 'theatre', 'christian-historical-fiction', '2nd-grade', 'espionage', 'childrens-classics', 'banks', 'cycling', 'language', 'gender', 'heroic-fantasy', 'storytime', 'occult', 'german-literature', 'buffy-the-vampire-slayer', 'geology', 'skepticism', 'romanticism', 'bdsm', 'lds', 'wizards', 'scandinavian-literature', 'paranormal', 'fighters', 'botswana', 'action', 'werewolves', 'beauty-and-the-beast', 'web', 'middle-grade', 'military-fiction10884', 'games', 'music', 'hackers', 'graphic-novels', 'historical-romance', 'grad-school', 'slice-of-life', 'discipleship', 'internet', 'counting', 'southern', 'fitness', 'film', 'business', 'turkish', 'road-trip', 'microhistory', 'police', 'mental-illness', 'palaeontology', 'health', 'erotica', 'academia', 'lds-fiction', 'art', 'sweden', 'space-opera', '17th-century', 'fandom', 'near-future', 'spirituality', 'fables', 'cinderella', 'economics', 'aspergers', 'literary-criticism', 'juvenile', 'new-weird', 'anthropology', 'wolves', 'modern-classics', 'ghost-stories', 'fairy-tales', 'southern-gothic', 'buisness', 'ireland', 'comedy', 'comics-manga', 'french-revolution', 'african-american-literature', 'gender-studies', 'angels', 'rabbits', 'iran', 'latin-american', 'mermaids', 'writing', 'social-science', 'sword-and-sorcery', 'horses', 'british-literature', 'art-and-photography', 'boarding-school', 'historical', 'baseball', 'relationships', 'adult', 'suspense', 'quantum-mechanics', 'religion', 'true-crime', 'science', 'contemporary-romance', 'epic-fantasy', 'modern', 'superman', 'fashion', 'comic-fantasy', 'chapter-books', 'cozy-mystery', '15th-century', 'maritime', 'nigeria', 'regency', 'social-work', 'philosophy', 'literature', 'speculative-fiction', 'college', 'gothic', 'christmas', 'atheism', 'health-care', 'hard-science-fiction', '16th-century', 'danish', 'war', 'inspirational', 'unicorns', 'own', 'aliens', 'australia', 'christian-non-fiction', 'childrens', 'church-history', 'military-history', 'african-american-romance', 'social-issues', 'physics', 'medical', 'tudor-period', 'nursery-rhymes', 'surreal', 'illness', 'teen', 'autobiography', 'shojo', 'mysticism', 'prostitution', 'comix', 'fantasy', 'cultural-studies', 'zen', 'spy-thriller', 'sports', 'graffiti', 'evolution', 'dystopia', '40k', 'sudan', '19th-century', 'military-fiction', 'anthologies', 'books-about-books', 'africa', 'jewish', 'amish', 'poland'}\n"
     ]
    }
   ],
   "source": [
    "import csv\n",
    "reader = csv.reader(open(r'C:\\Users\\raaga\\Desktop\\cmpe272\\ProjectGroup-7\\unique_genres1.csv', 'r',encoding=\"utf8\"), delimiter=',')\n",
    "genres_list = list(reader)\n",
    "# print(genres_list)\n",
    "uniq_genre = set()\n",
    "for genre in genres_list[1:]:\n",
    "    values = genre[1].split(\"|\")\n",
    "    for val in values:\n",
    "        uniq_genre.add(val)\n",
    "i=0\n",
    "for val in uniq_genre:\n",
    "    if \"fiction\" in val:\n",
    "        i=i+1\n",
    "#         print(val)\n",
    "print(i)\n",
    "# print(len(uniq_genre))\n",
    "print(uniq_genre)\n",
    "        "
   ]
  },
  {
   "cell_type": "code",
   "execution_count": 26,
   "metadata": {},
   "outputs": [
    {
     "name": "stdout",
     "output_type": "stream",
     "text": [
      "defaultdict(<class 'int'>, {'young-adult': 2119, 'fiction': 6903, 'dystopia': 333, 'fantasy': 2896, 'science-fiction': 952, 'romance': 2520, 'adventure': 743, 'teen': 221, 'post-apocalyptic': 121, 'action': 144, 'vampires': 429, 'paranormal': 925, 'classics': 1481, 'historical-fiction': 1302, 'school': 206, 'literature': 699, 'historical': 853, 'novels': 770, 'read-for-school': 35, 'high-school': 72, 'american': 178, 'contemporary': 1631, 'science-fiction-fantasy': 400, 'high-fantasy': 229, 'childrens': 849, 'epic-fantasy': 273, 'coming-of-age': 81, 'mystery': 1809, 'thriller': 1261, 'suspense': 555, 'mystery-thriller': 430, 'crime': 838, 'adult': 950, 'adult-fiction': 420, 'drama': 295, 'politics': 196, 'non-fiction': 1552, 'history': 471, 'biography': 601, 'memoir': 517, 'holocaust': 49, 'autobiography': 167, 'war': 229, 'world-war-ii': 107, 'magic': 458, 'middle-grade': 369, 'audiobook': 1079, 'plays': 104, 'poetry': 171, 'chick-lit': 758, 'book-club': 145, 'japan': 61, 'asia': 71, 'erotica': 181, 'bdsm': 51, 'contemporary-romance': 497, 'erotic-romance': 51, 'philosophy': 358, 'spirituality': 190, 'inspirational': 95, 'self-help': 308, 'time-travel': 76, 'magical-realism': 113, 'travel': 103, 'mythology': 125, 'urban-fantasy': 488, 'greek-mythology': 10, 'love': 70, 'india': 62, 'animals': 205, 'books-about-books': 33, 'humor': 799, 'picture-books': 302, 'juvenile': 121, 'paranormal-romance': 362, 'supernatural': 251, 'werewolves': 72, 'dragons': 87, 'comedy': 194, 'chapter-books': 32, 'psychology': 289, 'realistic-fiction': 321, 'gothic': 62, 'civil-war': 20, 'historical-romance': 103, 'horror': 609, 'aliens': 35, 'british-literature': 185, 'fashion': 4, 'biography-memoir': 188, 'classic-literature': 66, '19th-century': 78, 'kids': 76, 'short-stories': 335, 'economics': 63, 'business': 216, 'science': 228, 'sociology': 71, 'finance': 45, 'social-science': 10, 'sweden': 11, 'africa': 76, 'essays': 105, 'france': 117, 'french-literature': 33, 'epic': 62, 'family': 130, 'lgbt': 99, 'literary-fiction': 286, 'queer': 50, 'china': 41, 'young-adult-contemporary': 55, 'retellings': 47, 'fairy-tales': 98, 'witches': 56, 'space-opera': 95, 'speculative-fiction': 60, 'leadership': 76, 'technology': 29, 'mental-health': 60, 'mental-illness': 31, '20th-century': 63, 'canada': 68, 'southern': 60, 'womens': 38, 'medieval': 37, 'military-fiction': 104, 'art': 128, 'music': 94, 'death': 23, 'religion': 261, 'feminism': 75, 'womens-fiction': 39, 'food': 113, 'victorian': 33, 'russia': 59, 'christian': 238, 'christian-fiction': 104, 'faith': 86, 'christianity': 118, 'russian-literature': 34, 'true-crime': 46, 'steampunk': 41, 'angels': 62, 'tudor-period': 15, 'nature': 32, 'graphic-novels': 420, 'comics': 372, 'personal-development': 152, 'african-american': 69, 'dogs': 23, 'new-adult': 324, 'college': 76, 'christmas': 39, 'holiday': 26, 'german-literature': 48, 'abuse': 58, 'true-story': 3, 'espionage': 98, 'legal-thriller': 31, 'law': 16, 'new-york': 36, 'spanish-literature': 31, 'australia': 30, 'survival': 26, 'mountaineering': 4, 'sports': 95, 'zombies': 50, 'apocalyptic': 26, 'detective': 128, 'murder-mystery': 42, 'productivity': 28, 'management': 52, 'cats': 17, 'education': 39, 'pakistan': 3, 'italy': 38, 'spain': 15, 'asian-literature': 17, 'space': 51, 'unfinished': 47, 'modern-classics': 4, 'ethiopia': 1, 'medicine': 28, 'counting': 2, 'storytime': 37, 'mathematics': 14, 'christian-non-fiction': 30, 'ghosts': 40, 'buisness': 39, 'czech-literature': 11, 'medical': 35, 'world-war-i': 8, 'cyberpunk': 39, 'theology': 62, 'young-adult-romance': 26, 'american-history': 76, 'presidents': 27, 'young-adult-fantasy': 99, 'popular-science': 26, 'physics': 32, 'indian-literature': 33, 'japanese-literature': 36, 'health': 64, 'drawing': 7, 'reference': 111, 'design': 19, 'how-to': 16, 'art-design': 12, 'anthropology': 19, 'relationships': 38, 'marriage': 20, 'theatre': 61, 'astronomy': 16, 'christian-living': 59, 'art-history': 32, 'photography': 10, 'atheism': 14, '18th-century': 13, 'graphic-novels-comics': 170, 'christian-romance': 9, 'poverty': 6, 'social-justice': 12, 'social-issues': 2, 'futuristic': 14, 'batman': 27, 'comic-book': 115, 'nutrition': 17, 'environment': 17, 'cooking': 72, 'love-story': 4, 'architecture': 6, 'cultural': 27, 'manga': 121, 'childrens-classics': 2, 'arthurian': 17, 'banned-books': 10, 'spy-thriller': 19, 'beauty-and-the-beast': 2, 'race': 23, 'emotion': 2, 'nigeria': 5, 'fitness': 7, 'money': 21, 'personal-finance': 12, 'entrepreneurship': 40, 'american-revolution': 9, 'writing': 24, 'brazil': 3, 'new-age': 16, 'comics-manga': 25, 'anime': 16, 'fae': 40, 'westerns': 27, 'psychological-thriller': 17, 'germany': 13, 'aspergers': 2, 'disability': 7, 'shojo': 25, 'iran': 9, 'romantic-suspense': 86, 'dark-fantasy': 27, 'fighters': 8, 'rabbits': 2, 'anthologies': 22, 'neuroscience': 14, 'biology': 23, 'evolution': 14, 'genetics': 3, 'cookbooks': 59, 'dark': 51, 'movies': 28, 'film': 8, 'wolves': 2, 'irish-literature': 22, 'ireland': 40, 'superheroes': 38, 'alternate-history': 22, 'cults': 5, 'italian-literature': 18, 'historical-mystery': 18, 'baseball': 10, 'culinary': 15, 'foodie': 27, 'food-and-drink': 18, 'gardening': 4, 'diary': 17, 'cozy-mystery': 15, 'sustainability': 3, 'fables': 11, 'dinosaurs': 3, 'folklore': 12, 'romantic': 11, 'journalism': 23, 'israel': 7, 'jewish': 18, 'noir': 27, 'novella': 43, 'sudan': 2, 'language': 10, 'ancient': 5, 'military-history': 26, 'lds': 13, 'church': 13, 'football': 9, 'southern-gothic': 9, 'linguistics': 5, 'buddhism': 13, 'pop-culture': 16, 'dragonlance': 12, 'russian-history': 1, 'european-history': 10, 'prayer': 7, 'judaism': 5, 'algeria': 3, 'comedian': 1, 'maritime': 3, 'fairies': 25, 'south-africa': 6, 'demons': 60, 'the-united-states-of-america': 27, 'dc-comics': 38, 'shapeshifters': 44, 'halloween': 4, 'knitting': 6, 'adoption': 5, 'english-literature': 4, 'marvel': 18, 'communication': 12, 'swedish-literature': 5, 'road-trip': 6, 'brain': 5, 'sports-romance': 30, 'horses': 8, 'birds': 4, 'transport': 3, 'comic-strips': 5, 'cartoon': 5, 'african-literature': 4, 'scotland': 22, 'star-wars': 22, 'forgotten-realms': 20, 'musicals': 2, 'comix': 12, 'fostering': 2, 'psychoanalysis': 3, 'theory': 14, 'islam': 13, 'divorce': 2, 'sequential-art': 3, 'somalia': 1, 'lesbian': 9, 'parenting': 29, 'police': 7, '16th-century': 7, 'military-science-fiction': 2, 'scandinavian-literature': 29, 'skepticism': 1, 'regency': 38, 'world-history': 11, 'archaeology': 3, 'polish-literature': 9, 'comic-fantasy': 5, 'travelogue': 4, 'gay': 7, 'm-m-romance': 10, 'social': 3, 'history-of-science': 2, 'geography': 2, 'sexuality': 8, 'latin-american': 16, 'bande-dessin%C3%A9e': 6, 'prehistoric': 1, 'denmark': 3, 'nordic-noir': 8, 'poland': 1, 'new-weird': 3, 'weird-fiction': 6, 'microhistory': 3, 'food-history': 1, '15th-century': 2, 'superman': 9, 'counselling': 7, 'hungary': 1, 'cycling': 2, 'dungeons-and-dragons': 8, 'slice-of-life': 3, 'hugo-awards': 10, 'hinduism': 2, 'latin-american-literature': 3, 'nobel-prize': 8, 'gender': 7, 'aviation': 3, 'us-presidents': 6, 'musicians': 9, 'ghana': 1, 'egypt': 19, 'christian-historical-fiction': 2, 'regency-romance': 18, 'mysticism': 1, '21st-century': 5, 'planets': 1, 'young-adult-paranormal': 6, 'vegan': 5, 'turkish': 3, 'turkish-literature': 4, 'textbooks': 2, 'basketball': 5, 'menage': 5, 'pirates': 7, 'health-care': 1, 'polygamy': 3, 'danish': 3, 'ancient-history': 6, 'roman': 11, 'mermaids': 7, 'urban': 6, 'african-american-literature': 2, 'zen': 2, 'metaphysics': 9, 'boarding-school': 2, 'medieval-history': 3, 'political-science': 9, 'french-revolution': 2, 'josei': 2, 'indonesian-literature': 17, 'chemistry': 1, 'lesbian-fiction': 1, 'fandom': 2, 'american-civil-war': 4, 'clean-romance': 2, 'rock-n-roll': 3, 'music-biography': 2, 'ghost-stories': 2, 'criticism': 2, 'art-and-photography': 3, 'greece': 4, 'victor-frankenstein': 1, 'martial-arts': 1, 'discipleship': 1, 'shonen': 4, 'punk': 2, 'nursery-rhymes': 2, 'buffy-the-vampire-slayer': 1, 'botswana': 6, 'fairy-tale-retellings': 3, 'x-men': 3, 'hockey': 3, 'historical-fantasy': 3, 'wine': 1, 'fan-fiction': 1, 'americana': 7, 'tragedy': 3, 'cuisine': 6, 'food-writing': 6, 'modern': 5, 'gender-studies': 5, 'internet': 3, '1st-grade': 5, 'number': 1, 'geek': 1, 'computers': 4, 'manga-romance': 1, '17th-century': 3, 'academic': 5, 'portugal': 8, 'portuguese-literature': 7, 'amish': 4, 'amish-fiction': 2, 'hard-science-fiction': 3, 'diets': 4, 'teaching': 5, 'animal-fiction': 6, 'amazon': 6, 'teachers': 2, 'ukraine': 1, '14th-century': 2, 'academia': 3, 'heroic-fantasy': 7, 'young-readers': 4, 'terrorism': 5, 'activism': 1, 'harlequin': 1, 'natural-history': 4, 'ecology': 1, 'rwanda': 1, 'short-story-collection': 1, 'crafts': 4, 'sword-and-sorcery': 6, 'princesses': 2, 'cultural-studies': 1, 'outdoors': 2, 'video-games': 3, 'social-work': 4, 'psychiatry': 4, 'computer-science': 4, 'surreal': 1, 'lovecraftian': 3, 'palaeontology': 1, 'own': 3, 'romanticism': 2, 'hard-boiled': 2, 'medieval-romance': 3, 'folk-tales': 3, 'media-tie-in': 6, 'climbing': 2, 'poetry-plays': 1, '2nd-grade': 3, 'biblical-fiction': 2, 'lds-non-fiction': 3, 'programming': 2, 'website-design': 1, 'web': 1, 'usability': 1, 'technical': 2, 'egyptian-literature': 4, 'collections': 9, 'hackers': 1, 'banks': 3, 'quantum-mechanics': 4, 'motorcycle': 1, 'church-history': 1, 'lds-fiction': 6, 'human-development': 1, 'monsters': 2, 'tv': 5, 'taoism': 1, 'zimbabwe': 1, 'wicca': 2, 'paganism': 2, 'witchcraft': 1, 'm-f-romance': 1, 'finnish-literature': 1, 'trivia': 1, 'near-future': 1, 'logic': 1, 'eastern-philosophy': 1, 'food-and-wine': 1, 'google': 1, 'light-novel': 1, 'illness': 1, 'visual-art': 1, 'humanities': 1, 'mixed-martial-arts': 2, 'geology': 2, 'vegetarian': 1, 'vegetarianism': 1, 'womens-studies': 1, 'climate-change': 1, 'african-american-romance': 2, 'unicorns': 3, 'grad-school': 1, 'journal': 1, 'wilderness': 2, 'society': 2, 'american-revolutionary-war': 2, 'soccer': 1, 'street-art': 1, 'graffiti': 1, 'fantasy-romance': 4, 'native-americans': 1, 'canadian-literature': 1, 'gaming': 1, 'games': 2, 'literary-criticism': 2, 'jazz': 1, 'romanian-literature': 1, 'international-relations': 2, 'software': 1, 'wizards': 1, 'trains': 1, 'back-to-school': 1, 'prostitution': 2, 'international-development': 1, 'christian-fantasy': 1, 'gods': 1, 'united-states': 1, 'alternative-medicine': 1, 'spider-man': 1, 'plants': 1, 'catholic': 1, 'cinderella': 1, 'occult': 1, 'young-adult-historical-fiction': 1, '40k': 1, 'military-fiction10884': 1, 'god': 1})\n"
     ]
    }
   ],
   "source": [
    "import pandas as pd\n",
    "import collections, itertools\n",
    "colnames = ['goodreads_book_id','genres']\n",
    "user1 = pd.read_csv('unique_genres1.csv', names=colnames, header=None)\n",
    "values =[]\n",
    "for genre in user1['genres']:\n",
    "    values.append(genre.split(\"|\"))\n",
    "\n",
    "freq = collections.defaultdict(int)  # 0 by default\n",
    "for x in itertools.chain.from_iterable(values):\n",
    "    freq[x] += 1\n",
    "print(freq)\n",
    "# values = pd.DataFrame(values)\n",
    "# s = values.value_counts()\n",
    "# print(s)"
   ]
  },
  {
   "cell_type": "code",
   "execution_count": 62,
   "metadata": {},
   "outputs": [
    {
     "ename": "NameError",
     "evalue": "name 'df' is not defined",
     "output_type": "error",
     "traceback": [
      "\u001b[1;31m---------------------------------------------------------------------------\u001b[0m",
      "\u001b[1;31mNameError\u001b[0m                                 Traceback (most recent call last)",
      "\u001b[1;32m<ipython-input-62-0e7a9524db30>\u001b[0m in \u001b[0;36m<module>\u001b[1;34m\u001b[0m\n\u001b[0;32m     12\u001b[0m     \u001b[1;32mfor\u001b[0m \u001b[0mkey\u001b[0m\u001b[1;33m,\u001b[0m \u001b[0mvalue\u001b[0m \u001b[1;32min\u001b[0m \u001b[0mgenre_dict\u001b[0m\u001b[1;33m.\u001b[0m\u001b[0mitems\u001b[0m\u001b[1;33m(\u001b[0m\u001b[1;33m)\u001b[0m\u001b[1;33m:\u001b[0m\u001b[1;33m\u001b[0m\u001b[1;33m\u001b[0m\u001b[0m\n\u001b[0;32m     13\u001b[0m        \u001b[0mwriter\u001b[0m\u001b[1;33m.\u001b[0m\u001b[0mwriterow\u001b[0m\u001b[1;33m(\u001b[0m\u001b[1;33m[\u001b[0m\u001b[0mkey\u001b[0m\u001b[1;33m,\u001b[0m \u001b[0mvalue\u001b[0m\u001b[1;33m]\u001b[0m\u001b[1;33m)\u001b[0m\u001b[1;33m\u001b[0m\u001b[1;33m\u001b[0m\u001b[0m\n\u001b[1;32m---> 14\u001b[1;33m \u001b[0mprint\u001b[0m\u001b[1;33m(\u001b[0m\u001b[0mdf\u001b[0m\u001b[1;33m[\u001b[0m\u001b[1;34m'genres'\u001b[0m\u001b[1;33m]\u001b[0m\u001b[1;33m)\u001b[0m\u001b[1;33m\u001b[0m\u001b[1;33m\u001b[0m\u001b[0m\n\u001b[0m\u001b[0;32m     15\u001b[0m \u001b[1;31m# count = df['genres'].value_counts()\u001b[0m\u001b[1;33m\u001b[0m\u001b[1;33m\u001b[0m\u001b[1;33m\u001b[0m\u001b[0m\n\u001b[0;32m     16\u001b[0m \u001b[1;31m# print(count)\u001b[0m\u001b[1;33m\u001b[0m\u001b[1;33m\u001b[0m\u001b[1;33m\u001b[0m\u001b[0m\n",
      "\u001b[1;31mNameError\u001b[0m: name 'df' is not defined"
     ]
    }
   ],
   "source": [
    "import pandas as pd\n",
    "import collections, itertools\n",
    "colnames = ['goodreads_book_id','genres']\n",
    "user1 = pd.read_csv('unique_genres1.csv', names=colnames, header=None)\n",
    "genre_dict ={}\n",
    "for ids,genre in zip(user1['goodreads_book_id'],user1['genres']):\n",
    "     genre_dict[ids] = genre.split(\"|\")\n",
    "# print(genre_dict)\n",
    "with open('edited_genres.csv', 'w', newline='') as file:\n",
    "    writer = csv.writer(file)\n",
    "#     writer.writeheader()\n",
    "    for key, value in genre_dict.items():\n",
    "       writer.writerow([key, value])\n"
   ]
  },
  {
   "cell_type": "code",
   "execution_count": 78,
   "metadata": {},
   "outputs": [
    {
     "ename": "ValueError",
     "evalue": "zero-dimensional arrays cannot be concatenated",
     "output_type": "error",
     "traceback": [
      "\u001b[1;31m---------------------------------------------------------------------------\u001b[0m",
      "\u001b[1;31mValueError\u001b[0m                                Traceback (most recent call last)",
      "\u001b[1;32m<ipython-input-78-cac82426c7ed>\u001b[0m in \u001b[0;36m<module>\u001b[1;34m\u001b[0m\n\u001b[0;32m      5\u001b[0m \u001b[0mdf\u001b[0m \u001b[1;33m=\u001b[0m \u001b[0mpd\u001b[0m\u001b[1;33m.\u001b[0m\u001b[0mread_csv\u001b[0m\u001b[1;33m(\u001b[0m\u001b[1;34m'edited_genres.csv'\u001b[0m\u001b[1;33m,\u001b[0m \u001b[0mnames\u001b[0m\u001b[1;33m=\u001b[0m\u001b[0mcolnames\u001b[0m\u001b[1;33m,\u001b[0m \u001b[0mheader\u001b[0m\u001b[1;33m=\u001b[0m\u001b[1;32mNone\u001b[0m\u001b[1;33m)\u001b[0m\u001b[1;33m\u001b[0m\u001b[1;33m\u001b[0m\u001b[0m\n\u001b[0;32m      6\u001b[0m \u001b[1;31m# print(df['genres'])\u001b[0m\u001b[1;33m\u001b[0m\u001b[1;33m\u001b[0m\u001b[1;33m\u001b[0m\u001b[0m\n\u001b[1;32m----> 7\u001b[1;33m \u001b[0ma\u001b[0m \u001b[1;33m=\u001b[0m \u001b[0mpd\u001b[0m\u001b[1;33m.\u001b[0m\u001b[0mSeries\u001b[0m\u001b[1;33m(\u001b[0m\u001b[0mnp\u001b[0m\u001b[1;33m.\u001b[0m\u001b[0mconcatenate\u001b[0m\u001b[1;33m(\u001b[0m\u001b[0mdf\u001b[0m\u001b[1;33m.\u001b[0m\u001b[0mgenres\u001b[0m\u001b[1;33m)\u001b[0m\u001b[1;33m)\u001b[0m\u001b[1;33m\u001b[0m\u001b[1;33m\u001b[0m\u001b[0m\n\u001b[0m\u001b[0;32m      8\u001b[0m \u001b[0mfreq\u001b[0m \u001b[1;33m=\u001b[0m \u001b[0ma\u001b[0m\u001b[1;33m.\u001b[0m\u001b[0mvalue_counts\u001b[0m\u001b[1;33m(\u001b[0m\u001b[1;33m)\u001b[0m\u001b[1;33m.\u001b[0m\u001b[0msort_index\u001b[0m\u001b[1;33m(\u001b[0m\u001b[1;33m)\u001b[0m\u001b[1;33m.\u001b[0m\u001b[0mrename_axis\u001b[0m\u001b[1;33m(\u001b[0m\u001b[1;34m'genres'\u001b[0m\u001b[1;33m)\u001b[0m\u001b[1;33m.\u001b[0m\u001b[0mreset_index\u001b[0m\u001b[1;33m(\u001b[0m\u001b[0mname\u001b[0m\u001b[1;33m=\u001b[0m\u001b[1;34m'f'\u001b[0m\u001b[1;33m)\u001b[0m\u001b[1;33m\u001b[0m\u001b[1;33m\u001b[0m\u001b[0m\n\u001b[0;32m      9\u001b[0m \u001b[1;31m# s = df['genres'].explode().value_counts()\u001b[0m\u001b[1;33m\u001b[0m\u001b[1;33m\u001b[0m\u001b[1;33m\u001b[0m\u001b[0m\n",
      "\u001b[1;32m<__array_function__ internals>\u001b[0m in \u001b[0;36mconcatenate\u001b[1;34m(*args, **kwargs)\u001b[0m\n",
      "\u001b[1;31mValueError\u001b[0m: zero-dimensional arrays cannot be concatenated"
     ]
    }
   ],
   "source": [
    "from collections import Counter\n",
    "import numpy as np\n",
    "from  itertools import chain\n",
    "colnames = ['goodreads_book_id','genres']\n",
    "df = pd.read_csv('edited_genres.csv', names=colnames, header=None)\n",
    "# print(df['genres'])\n",
    "a = pd.Series(np.concatenate(df.genres))\n",
    "freq = a.value_counts().sort_index().rename_axis('genres').reset_index(name='f')\n",
    "# s = df['genres'].explode().value_counts()\n",
    "print(freq) \n",
    "        "
   ]
  },
  {
   "cell_type": "code",
   "execution_count": null,
   "metadata": {},
   "outputs": [],
   "source": []
  }
 ],
 "metadata": {
  "kernelspec": {
   "display_name": "Python 3",
   "language": "python",
   "name": "python3"
  },
  "language_info": {
   "codemirror_mode": {
    "name": "ipython",
    "version": 3
   },
   "file_extension": ".py",
   "mimetype": "text/x-python",
   "name": "python",
   "nbconvert_exporter": "python",
   "pygments_lexer": "ipython3",
   "version": "3.7.6"
  }
 },
 "nbformat": 4,
 "nbformat_minor": 4
}
